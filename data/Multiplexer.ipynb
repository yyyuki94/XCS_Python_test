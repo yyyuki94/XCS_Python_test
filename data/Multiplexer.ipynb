{
 "cells": [
  {
   "cell_type": "markdown",
   "metadata": {},
   "source": [
    "# マルチプレクサー問題生成"
   ]
  },
  {
   "cell_type": "code",
   "execution_count": 1,
   "metadata": {},
   "outputs": [
    {
     "name": "stdout",
     "output_type": "stream",
     "text": [
      "3.7.6 (default, Jan  8 2020, 19:59:22) \n",
      "[GCC 7.3.0]\n",
      "Numpy: 1.18.1\n"
     ]
    }
   ],
   "source": [
    "import sys, traceback\n",
    "import random\n",
    "import itertools\n",
    "\n",
    "from abc import ABCMeta, abstractmethod\n",
    "\n",
    "print(sys.version)\n",
    "\n",
    "import numpy as np\n",
    "import matplotlib.pyplot as plt\n",
    "\n",
    "print(\"Numpy: \" + np.__version__)"
   ]
  },
  {
   "cell_type": "code",
   "execution_count": 2,
   "metadata": {},
   "outputs": [],
   "source": [
    "class MuxGenerator:\n",
    "    bool_list = [False, True]\n",
    "    \n",
    "    def __init__(self, N_addr):\n",
    "        self.k = N_addr\n",
    "        self.N = self.k + 2 ** self.k\n",
    "        self.X = np.array(list(itertools.product(self.bool_list, repeat=self.N)))\n",
    "        self.y = np.apply_along_axis(self.__eval_func, 1, self.X)\n",
    "        \n",
    "    def __eval_func(self, x):\n",
    "        def mypackbits(X, reverse=True):\n",
    "            p = np.power(2, np.arange(X.shape[-1]))\n",
    "            if reverse:\n",
    "                p = p[::-1]\n",
    "            return np.dot(X, p)\n",
    "        \n",
    "        idx = mypackbits(x[0:self.k])\n",
    "        return x[self.k + idx]\n",
    "    \n",
    "    def save_csv(self):\n",
    "        file_name = f\"Mux-{self.N}.csv\"\n",
    "        data = np.hstack((self.X, self.y.reshape(-1, 1)))\n",
    "        header = [f\"b_{i}\" for i in range(self.N)] + [\"ans\"]\n",
    "        np.savetxt(file_name, X=data, delimiter=\",\", fmt=\"%d\", header=\",\".join(header))\n",
    "        \n",
    "    @classmethod\n",
    "    def generate_mux(cls, N_addr):\n",
    "        cls(N_addr).save_csv()"
   ]
  },
  {
   "cell_type": "code",
   "execution_count": 5,
   "metadata": {},
   "outputs": [],
   "source": [
    "MuxGenerator.generate_mux(4)"
   ]
  },
  {
   "cell_type": "code",
   "execution_count": null,
   "metadata": {},
   "outputs": [],
   "source": []
  }
 ],
 "metadata": {
  "kernelspec": {
   "display_name": "Python 3",
   "language": "python",
   "name": "python3"
  },
  "language_info": {
   "codemirror_mode": {
    "name": "ipython",
    "version": 3
   },
   "file_extension": ".py",
   "mimetype": "text/x-python",
   "name": "python",
   "nbconvert_exporter": "python",
   "pygments_lexer": "ipython3",
   "version": "3.7.6"
  }
 },
 "nbformat": 4,
 "nbformat_minor": 4
}
